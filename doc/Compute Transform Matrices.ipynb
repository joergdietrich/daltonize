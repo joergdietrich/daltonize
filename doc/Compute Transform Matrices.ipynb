{
 "cells": [
  {
   "cell_type": "code",
   "execution_count": null,
   "metadata": {},
   "outputs": [],
   "source": [
    "import numpy as np"
   ]
  },
  {
   "cell_type": "code",
   "execution_count": null,
   "metadata": {},
   "outputs": [],
   "source": [
    "# sRGB -> XYZ\n",
    "rgb2xyz = np.array([[0.4124564, 0.3575761, 0.1804375],\n",
    "                    [0.2126729, 0.7151522, 0.0721750],\n",
    "                    [0.0193339, 0.1191920, 0.9503041]])\n",
    "\n",
    "# CIECAM02 XYZ -> LMS\n",
    "xyz2lms = np.array([[ 0.7328, 0.4296, -0.1624],\n",
    "                    [-0.7036, 1.6975,  0.0061],\n",
    "                    [ 0.0030, 0.0136,  0.9834]])\n",
    "\n",
    "rgb2lms = xyz2lms @ rgb2xyz\n",
    "rgb2lms"
   ]
  },
  {
   "cell_type": "code",
   "execution_count": null,
   "metadata": {},
   "outputs": [],
   "source": [
    "lms2rgb = np.linalg.inv(rgb2lms)\n",
    "lms2rgb"
   ]
  },
  {
   "cell_type": "code",
   "execution_count": null,
   "metadata": {},
   "outputs": [],
   "source": [
    "rgb_blue = np.array([0, 0, 1])\n",
    "rgb_red = np.array([1, 0, 0])\n",
    "rgb_white = np.array([1, 1, 1])"
   ]
  },
  {
   "cell_type": "code",
   "execution_count": null,
   "metadata": {},
   "outputs": [],
   "source": [
    "lms_red = rgb2lms @ rgb_red\n",
    "lms_blue = rgb2lms @ rgb_blue\n",
    "lms_white = rgb2lms @ rgb_white"
   ]
  },
  {
   "cell_type": "code",
   "execution_count": null,
   "metadata": {},
   "outputs": [],
   "source": [
    "α = lms_white[1] * lms_blue[2] - lms_blue[1] * lms_white[2]\n",
    "β = lms_white[2] * lms_blue[0] - lms_blue[2] * lms_white[0]\n",
    "γ = lms_white[0] * lms_blue[1] - lms_blue[0] * lms_white[1]"
   ]
  },
  {
   "cell_type": "code",
   "execution_count": null,
   "metadata": {},
   "outputs": [],
   "source": [
    "l_p = -(β * np.array([0, 1, 0]) + γ * np.array([0, 0, 1])) / α\n",
    "l_p"
   ]
  },
  {
   "cell_type": "code",
   "execution_count": null,
   "metadata": {},
   "outputs": [],
   "source": [
    "m_d = -(α * np.array([1, 0, 0]) + γ * np.array([0, 0, 1])) / β\n",
    "m_d"
   ]
  },
  {
   "cell_type": "code",
   "execution_count": null,
   "metadata": {},
   "outputs": [],
   "source": [
    "α = lms_white[1] * lms_red[2] - lms_red[1] * lms_white[2]\n",
    "β = lms_white[2] * lms_red[0] - lms_red[2] * lms_white[0]\n",
    "γ = lms_white[0] * lms_red[1] - lms_red[0] * lms_white[1]"
   ]
  },
  {
   "cell_type": "code",
   "execution_count": null,
   "metadata": {},
   "outputs": [],
   "source": [
    "s_t = -(α * np.array([1, 0, 0]) +  β * np.array([0, 1, 0])) / γ\n",
    "s_t"
   ]
  }
 ],
 "metadata": {
  "language_info": {
   "name": "python",
   "pygments_lexer": "ipython3"
  }
 },
 "nbformat": 4,
 "nbformat_minor": 4
}
